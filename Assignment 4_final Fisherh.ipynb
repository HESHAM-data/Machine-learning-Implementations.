{
 "cells": [
  {
   "cell_type": "markdown",
   "metadata": {},
   "source": [
    "# Assignment 4: Fisher Implementation"
   ]
  },
  {
   "cell_type": "markdown",
   "metadata": {},
   "source": [
    "<font color=blue><b>1- Import Needed Packages</b></font>"
   ]
  },
  {
   "cell_type": "code",
   "execution_count": 114,
   "metadata": {},
   "outputs": [],
   "source": [
    "import numpy as np\n",
    "import os\n",
    "import imageio\n",
    "import matplotlib.pylab as plt\n",
    "import pandas as pd \n",
    "import seaborn as sns"
   ]
  },
  {
   "cell_type": "markdown",
   "metadata": {},
   "source": [
    "### Get the current directory path"
   ]
  },
  {
   "cell_type": "code",
   "execution_count": 72,
   "metadata": {},
   "outputs": [
    {
     "data": {
      "text/plain": [
       "'/Users/hesham/Downloads/Fisher/Test'"
      ]
     },
     "execution_count": 72,
     "metadata": {},
     "output_type": "execute_result"
    }
   ],
   "source": [
    "home_path = os.getcwd()\n",
    "home_path"
   ]
  },
  {
   "cell_type": "markdown",
   "metadata": {},
   "source": [
    "<font color=blue><b>2- Load Images </b></font>"
   ]
  },
  {
   "cell_type": "code",
   "execution_count": 73,
   "metadata": {},
   "outputs": [],
   "source": [
    "path='/Users/hesham/Downloads/Fisher/Train/'\n",
    "os.chdir(path)\n",
    "\n",
    "Images=os.listdir()\n",
    "\n"
   ]
  },
  {
   "cell_type": "code",
   "execution_count": 74,
   "metadata": {},
   "outputs": [
    {
     "name": "stdout",
     "output_type": "stream",
     "text": [
      "<class 'list'>\n"
     ]
    }
   ],
   "source": [
    "print(type(Images))# How Does it store"
   ]
  },
  {
   "cell_type": "code",
   "execution_count": 75,
   "metadata": {},
   "outputs": [
    {
     "name": "stdout",
     "output_type": "stream",
     "text": [
      "2401\n"
     ]
    }
   ],
   "source": [
    "print(len(Images)) # To know number of them"
   ]
  },
  {
   "cell_type": "code",
   "execution_count": 76,
   "metadata": {},
   "outputs": [
    {
     "name": "stdout",
     "output_type": "stream",
     "text": [
      "[0. 0. 0. ... 9. 9. 9.]\n",
      "2400\n"
     ]
    }
   ],
   "source": [
    "train_labels=Images.pop(Images.index('Training Labels.txt'))\n",
    "train_labels=np.loadtxt(train_labels)\n",
    "print(train_labels)\n",
    "print(len(Images))\n"
   ]
  },
  {
   "cell_type": "markdown",
   "metadata": {},
   "source": [
    "<font color=blue><b>3-Sort them and read them </b></font>"
   ]
  },
  {
   "cell_type": "code",
   "execution_count": 77,
   "metadata": {},
   "outputs": [],
   "source": [
    "%matplotlib inline\n",
    "Images1=sorted(Images, key=lambda t: int(os.path.splitext(t)[0])) # sort them ascendingly \n",
    "ImagF=np.zeros((2400,784))  # All Images\n",
    "for i in range(len(Images1)):\n",
    "    ImagF1=imageio.imread(Images1[i])\n",
    "    ImagF[i,:]=ImagF1.reshape((1,784))\n"
   ]
  },
  {
   "cell_type": "code",
   "execution_count": 78,
   "metadata": {},
   "outputs": [
    {
     "data": {
      "text/plain": [
       "<matplotlib.image.AxesImage at 0x128773510>"
      ]
     },
     "execution_count": 78,
     "metadata": {},
     "output_type": "execute_result"
    },
    {
     "data": {
      "image/png": "[encoded data removed]",
      "text/plain": [
       "<Figure size 432x288 with 1 Axes>"
      ]
     },
     "metadata": {
      "needs_background": "light"
     },
     "output_type": "display_data"
    }
   ],
   "source": [
    "plt.imshow(ImagF[240,:].reshape(28,28))"
   ]
  },
  {
   "cell_type": "code",
   "execution_count": 79,
   "metadata": {},
   "outputs": [
    {
     "data": {
      "text/plain": [
       "(784, 1)"
      ]
     },
     "execution_count": 79,
     "metadata": {},
     "output_type": "execute_result"
    }
   ],
   "source": [
    "ImagF.shape\n",
    "\n",
    "me=m1(ImagF)\n",
    "se=S1(ImagF,me)\n",
    "me.shape"
   ]
  },
  {
   "cell_type": "markdown",
   "metadata": {},
   "source": [
    "<font color=blue ><b>4-Training Phase (Weights) </b></font> "
   ]
  },
  {
   "cell_type": "code",
   "execution_count": 80,
   "metadata": {},
   "outputs": [],
   "source": [
    "def m1(c1):\n",
    "    #Calculate mean of the intended class \n",
    "    m1=np.mean(c1,axis=0).reshape(-1,1)\n",
    "    return m1\n",
    "def m2(c2):\n",
    "    #Calculate mean of the other classes\n",
    "    \n",
    "    m2=np.mean(c2,axis=0).reshape(-1,1)\n",
    "    \n",
    "    \n",
    "    return m2"
   ]
  },
  {
   "cell_type": "code",
   "execution_count": 81,
   "metadata": {},
   "outputs": [],
   "source": [
    "def S1(c1,m1):\n",
    "    # Calculate First Term of SW\n",
    "    \n",
    "    S1_t=np.zeros((c1.shape[1],c1.shape[1]))\n",
    "    for i in c1 :\n",
    "        row=i.reshape(-1,1)\n",
    "        S1_t +=(row-m1)@((row-m1).T)\n",
    "        \n",
    "    return S1_t \n",
    "def S2(c2,m2):\n",
    "    \n",
    "    #Calculate Second Term of SW\n",
    "    S2_t=np.zeros((c2.shape[1],c2.shape[1]))\n",
    "    for j in c2 :\n",
    "        row2=j.reshape(-1,1)\n",
    "        S2_t +=(row2-m2)@((row2-m2).T)\n",
    "        \n",
    "   \n",
    "    return S2_t"
   ]
  },
  {
   "cell_type": "code",
   "execution_count": 82,
   "metadata": {},
   "outputs": [],
   "source": [
    "W=np.zeros((10,784))\n",
    "W_o=np.zeros((10,1))\n",
    "counter=0 \n",
    "for i in range(0,len(Images1),240):\n",
    "    \n",
    "    imagecopy1=ImagF.copy()\n",
    "    if i < len(Images1) :\n",
    "        \n",
    "    #Get First Class say c1\n",
    "          c1=imagecopy1[i:i+240]\n",
    "    #Get Other Classes say c2\n",
    "          c2=np.delete(imagecopy1,np.s_[i:i+240],axis=0)          \n",
    "    #Get Means\n",
    "          mean1=m1(c1)\n",
    "          mean2=m2(c2)\n",
    "    \n",
    "    #Calculate SW\n",
    "          Sw=S1(c1,mean1)+S2(c2,mean2)\n",
    "    #Calculate its invers \"Note Use pinv function\"\n",
    "          Sw_inv=np.linalg.pinv(Sw)\n",
    "    #Calculate Weigths of the intended class \n",
    "          w=Sw_inv.dot((mean1-mean2)).reshape(1,-1)\n",
    "          W[counter,:]=w\n",
    "    #Calculate W_bias of it\n",
    "          W_o[counter]=-w@(mean1+mean2)/2\n",
    "          counter+=1\n",
    "        \n",
    "    else:\n",
    "          break\n",
    "        \n",
    "        \n"
   ]
  },
  {
   "cell_type": "markdown",
   "metadata": {},
   "source": [
    "<font color=blue ><b>5-Testing Phase </b></font>"
   ]
  },
  {
   "cell_type": "code",
   "execution_count": 130,
   "metadata": {},
   "outputs": [
    {
     "name": "stdout",
     "output_type": "stream",
     "text": [
      "accuracy = 83.0 %\n"
     ]
    },
    {
     "data": {
      "image/png": "[encoded data removed]",
      "text/plain": [
       "<Figure size 432x288 with 2 Axes>"
      ]
     },
     "metadata": {},
     "output_type": "display_data"
    }
   ],
   "source": [
    "#-----------------Testing---------------\n",
    "path2='/Users/hesham/Downloads/Fisher/Test//'\n",
    "\n",
    "os.chdir(path2)\n",
    "Test_Image=os.listdir()\n",
    "\n",
    "\n",
    "Test_Labels=Test_Image.pop(Test_Image.index('Test Labels.txt'))\n",
    "\n",
    "Test_Labels=np.loadtxt('Test Labels.txt')\n",
    "\n",
    "Test_Image1=sorted(Test_Image, key=lambda t: int(os.path.splitext(t)[0]))\n",
    "Imag_T=np.zeros((200,784))\n",
    "for i in range(len(Test_Image1)):\n",
    "    Imag=imageio.imread(Test_Image1[i])\n",
    "    Imag_T[i,:]=Imag.reshape((1,784)) \n",
    "    \n",
    "# Calculate Predicted Y \n",
    "Y_predicted = (np.dot(Imag_T,W.T)) + W_o.T \n",
    "# Calculate Predicted Labels\n",
    "pred_labels = Y_predicted.argmax(axis =1)\n",
    "\n",
    "#Calculate Accuracy and Print it\n",
    "accuracy = (pred_labels == Test_Labels).mean()*100\n",
    "print('accuracy =',accuracy,'%')\n",
    "\n",
    "#Plot Confusion Matrix and save it but take care to save it in another folder NOT TRAIN or TEST\n",
    "\n",
    "import sklearn.metrics as metrics\n",
    "cm = metrics.confusion_matrix(Test_Labels, pred_labels)\n",
    "\n",
    "\n",
    "plt.imshow(cm, cmap=plt.cm.Blues)\n",
    "plt.xlabel(\"Predicted labels\")\n",
    "plt.ylabel(\"True labels\")\n",
    "plt.xticks([], [])\n",
    "plt.yticks([], [])\n",
    "plt.title('Confusion matrix ')\n",
    "plt.colorbar()\n",
    "plt.show()\n",
    "\n"
   ]
  },
  {
   "cell_type": "code",
   "execution_count": null,
   "metadata": {},
   "outputs": [],
   "source": [
    "#note: the whole code runing without any error so please if any error arise in your \n",
    "#local device please tell me before any minus \n",
    "#thanks"
   ]
  }
 ],
 "metadata": {
  "kernelspec": {
   "display_name": "Python 3",
   "language": "python",
   "name": "python3"
  },
  "language_info": {
   "codemirror_mode": {
    "name": "ipython",
    "version": 3
   },
   "file_extension": ".py",
   "mimetype": "text/x-python",
   "name": "python",
   "nbconvert_exporter": "python",
   "pygments_lexer": "ipython3",
   "version": "3.7.4"
  }
 },
 "nbformat": 4,
 "nbformat_minor": 2
}
